{
 "cells": [
  {
   "cell_type": "markdown",
   "metadata": {},
   "source": [
    "# Functions"
   ]
  },
  {
   "cell_type": "markdown",
   "metadata": {},
   "source": [
    "En este laboratorio pondremos en práctica algunos de los conceptos que hemos aprendido en los últimos días.\n",
    "\n",
    "`NOTA: En este laboratorio deberías intentar escribir todas las funciones por ti mismo utilizando solo la sintaxis más básica de Python y sin funciones como len, count, sum, max, min, in, etc. Dale una oportunidad. 🧑🏻‍💻👩🏻‍💻`\n",
    "\n",
    "La celda después de cada ejercicio contiene algunas pruebas para verificar si tu función funciona como se espera."
   ]
  },
  {
   "cell_type": "code",
   "execution_count": 131,
   "metadata": {},
   "outputs": [],
   "source": [
    "from mod.testing import *\n",
    "import unittest"
   ]
  },
  {
   "cell_type": "markdown",
   "metadata": {},
   "source": [
    "## 1. Escribe una función que devuelva el mayor de dos números"
   ]
  },
  {
   "cell_type": "code",
   "execution_count": 132,
   "metadata": {},
   "outputs": [],
   "source": [
    "def greater(a,b):\n",
    "    if a<b:\n",
    "        return b\n",
    "    else:\n",
    "        return a\n",
    "    \n",
    "#your code here#tu codigo aquí"
   ]
  },
  {
   "cell_type": "code",
   "execution_count": 133,
   "metadata": {},
   "outputs": [
    {
     "name": "stderr",
     "output_type": "stream",
     "text": [
      "....................................................................................................\n",
      "----------------------------------------------------------------------\n",
      "Ran 100 tests in 0.279s\n",
      "\n",
      "OK\n"
     ]
    }
   ],
   "source": [
    "# Para testear tu función\n",
    "test_greater(greater)"
   ]
  },
  {
   "cell_type": "markdown",
   "metadata": {},
   "source": [
    "## 2. Ahora escribe una función que devuelva el elemento más"
   ]
  },
  {
   "cell_type": "code",
   "execution_count": 134,
   "metadata": {},
   "outputs": [],
   "source": [
    "#tu codigo aquí\n",
    "def greatest(lista):\n",
    "    maxim = 0\n",
    "    for num in lista:\n",
    "        if num > maxim:\n",
    "            maxim = num\n",
    "            \n",
    "    return maxim\n",
    "    "
   ]
  },
  {
   "cell_type": "code",
   "execution_count": 135,
   "metadata": {},
   "outputs": [
    {
     "name": "stderr",
     "output_type": "stream",
     "text": [
      "....................................................................................................\n",
      "----------------------------------------------------------------------\n",
      "Ran 100 tests in 0.282s\n",
      "\n",
      "OK\n"
     ]
    }
   ],
   "source": [
    "# Para testear tu función\n",
    "test_greatest(greatest)"
   ]
  },
  {
   "cell_type": "markdown",
   "metadata": {},
   "source": [
    "## 3. Escribe una función que sume todos los elementos de una lista"
   ]
  },
  {
   "cell_type": "code",
   "execution_count": 136,
   "metadata": {},
   "outputs": [],
   "source": [
    "\n",
    "def sum_all(lst):\n",
    "    suma = 0\n",
    "    for elemento in lst:\n",
    "        suma += elemento\n",
    "    return suma\n",
    "#tu codigo aquí"
   ]
  },
  {
   "cell_type": "code",
   "execution_count": 137,
   "metadata": {
    "scrolled": true
   },
   "outputs": [
    {
     "name": "stderr",
     "output_type": "stream",
     "text": [
      "....................................................................................................\n",
      "----------------------------------------------------------------------\n",
      "Ran 100 tests in 0.357s\n",
      "\n",
      "OK\n"
     ]
    }
   ],
   "source": [
    "# Para testear tu función\n",
    "test_sum(sum_all)"
   ]
  },
  {
   "cell_type": "markdown",
   "metadata": {},
   "source": [
    "## 4. Escribe otra función que multiplique todos los elementos de una lista"
   ]
  },
  {
   "cell_type": "code",
   "execution_count": 138,
   "metadata": {},
   "outputs": [],
   "source": [
    "def mult_all(lst):\n",
    "    mult = 1\n",
    "    for elemento in lst:\n",
    "        mult *= elemento\n",
    "    return mult\n",
    "#tu codigo aquí"
   ]
  },
  {
   "cell_type": "code",
   "execution_count": 139,
   "metadata": {
    "scrolled": true
   },
   "outputs": [
    {
     "name": "stderr",
     "output_type": "stream",
     "text": [
      "....................................................................................................\n",
      "----------------------------------------------------------------------\n",
      "Ran 100 tests in 0.588s\n",
      "\n",
      "OK\n"
     ]
    }
   ],
   "source": [
    "# Para testear tu función\n",
    "test_mult(mult_all)"
   ]
  },
  {
   "cell_type": "markdown",
   "metadata": {},
   "source": [
    "## 5. Ahora combina esas dos ideas y escribe una función que reciba una lista y ya sea \"+\" o \"*\", y produzca el resultado acorde"
   ]
  },
  {
   "cell_type": "code",
   "execution_count": 140,
   "metadata": {},
   "outputs": [],
   "source": [
    "def oper_all(arr, oper = \"*\"):\n",
    "    if oper == '+':\n",
    "        suma= 0\n",
    "        for elemento in arr:\n",
    "            suma += elemento\n",
    "        return suma\n",
    "    if oper == '*':\n",
    "        mult = 1\n",
    "        for elemento in arr:\n",
    "            mult *= elemento\n",
    "        return mult\n",
    "        \n",
    "#tu codigo aquí"
   ]
  },
  {
   "cell_type": "code",
   "execution_count": 141,
   "metadata": {},
   "outputs": [
    {
     "name": "stderr",
     "output_type": "stream",
     "text": [
      "....................................................................................................\n",
      "----------------------------------------------------------------------\n",
      "Ran 100 tests in 0.366s\n",
      "\n",
      "OK\n"
     ]
    }
   ],
   "source": [
    "# Para testear tu función\n",
    "test_operations(oper_all)"
   ]
  },
  {
   "cell_type": "markdown",
   "metadata": {},
   "source": [
    "## 6. Escribe una función que devuelva el factorial de un número."
   ]
  },
  {
   "cell_type": "code",
   "execution_count": 142,
   "metadata": {},
   "outputs": [],
   "source": [
    "def factorial(n):\n",
    "    resultado = 1\n",
    "    for i in range(1, n + 1):\n",
    "        resultado *= i\n",
    "    return resultado\n"
   ]
  },
  {
   "cell_type": "code",
   "execution_count": 143,
   "metadata": {},
   "outputs": [],
   "source": [
    "# Fórmula factorial\n",
    "# n! = n * (n - 1) *...*1\n",
    "\n",
    "# Este código define una función llamada \"factorial\" que toma una entrada \"n\". La función utiliza un bucle for para iterar a través del rango de números\n",
    "# desde 1 hasta n+1. Para cada número en ese rango, multiplica el valor actual de x por el número en el rango. Al final del bucle,\n",
    "# la función devuelve el valor final de x, que será el factorial del número de entrada \"n\".\n",
    "\n",
    "# El factorial de un entero positivo n es el producto de todos los enteros positivos menores o iguales a n.\n",
    "# Por ejemplo, el factorial de 6 (escrito \"6!\") es 6 * 5 * 4 * 3 * 2 * 1 = 720.\n",
    "\n",
    "# Así que esta función toma una entrada de cualquier entero positivo y devuelve el factorial de ese número."
   ]
  },
  {
   "cell_type": "code",
   "execution_count": 144,
   "metadata": {},
   "outputs": [
    {
     "name": "stderr",
     "output_type": "stream",
     "text": [
      "....................................................................................................\n",
      "----------------------------------------------------------------------\n",
      "Ran 100 tests in 0.373s\n",
      "\n",
      "OK\n"
     ]
    }
   ],
   "source": [
    "# This will test your function \n",
    "test_factorial(factorial)"
   ]
  },
  {
   "cell_type": "markdown",
   "metadata": {},
   "source": [
    "## 7. Escribe una función que tome una lista y devuelva una lista de los valores únicos.\n",
    "\n",
    "`NOTE: No podemos usar set. 🤔`"
   ]
  },
  {
   "cell_type": "code",
   "execution_count": 145,
   "metadata": {},
   "outputs": [],
   "source": [
    "def unique(lst_un):\n",
    "    lista_unicos = []\n",
    "    for elemento in lst_un:\n",
    "        if elemento not in lista_unicos:\n",
    "            lista_unicos.append(elemento)\n",
    "    return lista_unicos\n",
    "\n",
    "#tu codigo aquí"
   ]
  },
  {
   "cell_type": "code",
   "execution_count": 146,
   "metadata": {},
   "outputs": [
    {
     "name": "stderr",
     "output_type": "stream",
     "text": [
      "....................................................................................................\n",
      "----------------------------------------------------------------------\n",
      "Ran 100 tests in 0.682s\n",
      "\n",
      "OK\n"
     ]
    }
   ],
   "source": [
    "# Para testear tu función \n",
    "test_unique(unique)"
   ]
  },
  {
   "cell_type": "markdown",
   "metadata": {},
   "source": [
    "## 8. Escribe una función que devuelva la moda de una lista, es decir: el elemento que aparece más veces.\n",
    "\n",
    "`NOTE: No se debe usar count... 🧐`"
   ]
  },
  {
   "cell_type": "code",
   "execution_count": 147,
   "metadata": {},
   "outputs": [],
   "source": [
    "def mode_counter(arr):\n",
    "    frequencia = {}\n",
    "    for elemento in arr:\n",
    "        if elemento in frequencia:\n",
    "            frequencia[elemento] +=1\n",
    "        else:\n",
    "            frequencia[elemento] =1      \n",
    "    # Encontrar el número con la mayor frecuencia\n",
    "    max_frecuencia = max(frequencia.values())\n",
    "    for num, freq in frequencia.items():\n",
    "        if freq == max_frecuencia:\n",
    "            moda = num\n",
    "    return moda\n",
    "        \n",
    "#tu codigo aquí"
   ]
  },
  {
   "cell_type": "code",
   "execution_count": 148,
   "metadata": {},
   "outputs": [
    {
     "name": "stderr",
     "output_type": "stream",
     "text": [
      "....................................................................................................\n",
      "----------------------------------------------------------------------\n",
      "Ran 100 tests in 0.308s\n",
      "\n",
      "OK\n"
     ]
    }
   ],
   "source": [
    "# Para testear tu función \n",
    "test_mode(mode_counter)"
   ]
  },
  {
   "cell_type": "markdown",
   "metadata": {},
   "source": [
    "## 9. Escribe una función que calcule la desviación estándar de una lista.\n",
    "`NOTE: no utilices librerías ni ninguna función ya construida. 😉`"
   ]
  },
  {
   "cell_type": "code",
   "execution_count": 149,
   "metadata": {},
   "outputs": [],
   "source": [
    "def st_dev(list_sd):\n",
    "#tu codigo aquí\n",
    "    med = 0\n",
    "    numerator = 0\n",
    "    for i in list_sd:\n",
    "        med+=i\n",
    "    media = med/len(list_sd)\n",
    "    for i in list_sd:\n",
    "        numerator+=(i-media)**2\n",
    "    return (numerator/(len(list_sd)-1))**0.5\n"
   ]
  },
  {
   "cell_type": "code",
   "execution_count": 150,
   "metadata": {},
   "outputs": [
    {
     "name": "stderr",
     "output_type": "stream",
     "text": [
      "....................................................................................................\n",
      "----------------------------------------------------------------------\n",
      "Ran 100 tests in 0.285s\n",
      "\n",
      "OK\n"
     ]
    }
   ],
   "source": [
    "# Para testear tu función\n",
    "test_stdev(st_dev)"
   ]
  },
  {
   "cell_type": "markdown",
   "metadata": {},
   "source": [
    "## 10. Escribe una función para verificar si una cadena es un pangrama, es decir: si contiene todas las letras del alfabeto al menos una vez. Ten en cuenta que las cadenas pueden contener caracteres que no son letras."
   ]
  },
  {
   "cell_type": "code",
   "execution_count": 151,
   "metadata": {},
   "outputs": [],
   "source": [
    "def pangram(string):\n",
    "    abecedario = {chr(letra): 0 for letra in range(ord('a'), ord('z') + 1)}\n",
    "    for elemento in string:\n",
    "        elemento_str = str(elemento)\n",
    "        elemento_str_lower = elemento_str.lower()\n",
    "        if elemento in abecedario:\n",
    "            abecedario[elemento_str_lower] +=1\n",
    "        else:\n",
    "            abecedario[elemento_str_lower] =1   \n",
    "    for letra, num in abecedario.items():\n",
    "        if abecedario[letra]==0:\n",
    "            return False\n",
    "    return True      \n",
    "\n",
    "#tu codigo aquí"
   ]
  },
  {
   "cell_type": "code",
   "execution_count": 152,
   "metadata": {},
   "outputs": [
    {
     "name": "stderr",
     "output_type": "stream",
     "text": [
      "..............................\n",
      "----------------------------------------------------------------------\n",
      "Ran 30 tests in 0.095s\n",
      "\n",
      "OK\n"
     ]
    }
   ],
   "source": [
    "# Para testear tu función\n",
    "test_pangram(pangram)"
   ]
  },
  {
   "cell_type": "markdown",
   "metadata": {},
   "source": [
    "## 11. Escribe una función que reciba una cadena de palabras separadas por comas y devuelva una cadena de palabras separadas por comas ordenadas alfabéticamente.\n",
    "\n",
    "`NOTA: Puedes usar sorted pero no split y definitivamente no join! 🤪`"
   ]
  },
  {
   "cell_type": "code",
   "execution_count": 153,
   "metadata": {},
   "outputs": [],
   "source": [
    "def sort_alpha(string):\n",
    "    palabras = []\n",
    "    palabra = \"\"\n",
    "    for char in string:\n",
    "        if char == ',':\n",
    "            palabras.append(palabra)\n",
    "            palabra = \"\"\n",
    "        else:\n",
    "            palabra += char\n",
    "    palabras.append(palabra) \n",
    "    palabras_ordenadas = sorted(palabras)\n",
    "    resultado = \"\"\n",
    "    for i, palabra in enumerate(palabras_ordenadas):\n",
    "        if i != 0:\n",
    "            resultado += \",\"\n",
    "        resultado += palabra\n",
    "    return resultado\n"
   ]
  },
  {
   "cell_type": "code",
   "execution_count": 154,
   "metadata": {},
   "outputs": [
    {
     "name": "stderr",
     "output_type": "stream",
     "text": [
      "....................................................................................................\n",
      "----------------------------------------------------------------------\n",
      "Ran 100 tests in 0.404s\n",
      "\n",
      "OK\n"
     ]
    }
   ],
   "source": [
    "# Para testear tu función \n",
    "test_alpha(sort_alpha)"
   ]
  },
  {
   "cell_type": "markdown",
   "metadata": {},
   "source": [
    "## 12. Escribe una función para verificar si una contraseña dada es fuerte (al menos 8 caracteres, al menos una minúscula, al menos una mayúscula, al menos un número y al menos un carácter especial). Debería devolver True si es fuerte y False si no lo es."
   ]
  },
  {
   "cell_type": "code",
   "execution_count": 155,
   "metadata": {},
   "outputs": [],
   "source": [
    "def check_pass(password):\n",
    "    requisitos = { 'car':0, 'min':0, 'may':0, 'num':0 ,'esp':0 }\n",
    "    for char in password:\n",
    "        requisitos['car']+=1\n",
    "        if char.isupper():\n",
    "            requisitos['may']+=1\n",
    "        elif char.islower():\n",
    "            requisitos['min']+=1\n",
    "        elif char.isdigit():\n",
    "            requisitos['num']+=1\n",
    "        elif not char.isalnum():\n",
    "            requisitos['esp']+=1\n",
    "    if  requisitos['car']>=8 and requisitos['may'] >=1 and requisitos['min']>=1 and requisitos['num']>=1 and requisitos['esp']>=1:\n",
    "        return True\n",
    "    else:\n",
    "        return False"
   ]
  },
  {
   "cell_type": "code",
   "execution_count": 156,
   "metadata": {},
   "outputs": [
    {
     "name": "stderr",
     "output_type": "stream",
     "text": [
      "....................................................................................................\n",
      "----------------------------------------------------------------------\n",
      "Ran 100 tests in 0.421s\n",
      "\n",
      "OK\n"
     ]
    }
   ],
   "source": [
    "# Para testear tu función\n",
    "test_pass(check_pass)"
   ]
  }
 ],
 "metadata": {
  "kernelspec": {
   "display_name": "Python 3 (ipykernel)",
   "language": "python",
   "name": "python3"
  },
  "language_info": {
   "codemirror_mode": {
    "name": "ipython",
    "version": 3
   },
   "file_extension": ".py",
   "mimetype": "text/x-python",
   "name": "python",
   "nbconvert_exporter": "python",
   "pygments_lexer": "ipython3",
   "version": "3.12.8"
  },
  "vscode": {
   "interpreter": {
    "hash": "aee8b7b246df8f9039afb4144a1f6fd8d2ca17a180786b69acc140d282b71a49"
   }
  }
 },
 "nbformat": 4,
 "nbformat_minor": 4
}
